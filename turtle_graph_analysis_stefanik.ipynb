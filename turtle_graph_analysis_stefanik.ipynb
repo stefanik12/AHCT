{
 "cells": [
  {
   "cell_type": "markdown",
   "metadata": {},
   "source": [
    "## Turtle graph analysis\n",
    "\n",
    "Notebook obsahuje kód na grafovú vizualizáciu sekvencií riešení úloh Želví Grafiky [https://www.umimeprogramovat.cz/zelvi-grafika] a analýzu dát na základe grafovej charakteristiky jednotlivých hier. "
   ]
  },
  {
   "cell_type": "markdown",
   "metadata": {},
   "source": [
    "### Data parsing and preprocessing\n",
    "\n",
    "Časť načítania, dekódovania a prieskumnej analýzy logov - smelo preskočiť rovno nižšie ku grafom"
   ]
  },
  {
   "cell_type": "code",
   "execution_count": 1,
   "metadata": {},
   "outputs": [],
   "source": [
    "import pandas as pd"
   ]
  },
  {
   "cell_type": "code",
   "execution_count": 2,
   "metadata": {
    "scrolled": true
   },
   "outputs": [],
   "source": [
    "item_df = pd.read_csv(\"data/new/turtle_item.txt\", delimiter=\";\")\n",
    "item_df[\"id\"] = item_df[\"id\"].apply(int)\n",
    "item_df.set_index(\"id\", inplace=True)"
   ]
  },
  {
   "cell_type": "code",
   "execution_count": 3,
   "metadata": {},
   "outputs": [
    {
     "data": {
      "text/html": [
       "<div>\n",
       "<style scoped>\n",
       "    .dataframe tbody tr th:only-of-type {\n",
       "        vertical-align: middle;\n",
       "    }\n",
       "\n",
       "    .dataframe tbody tr th {\n",
       "        vertical-align: top;\n",
       "    }\n",
       "\n",
       "    .dataframe thead th {\n",
       "        text-align: right;\n",
       "    }\n",
       "</style>\n",
       "<table border=\"1\" class=\"dataframe\">\n",
       "  <thead>\n",
       "    <tr style=\"text-align: right;\">\n",
       "      <th></th>\n",
       "      <th>name</th>\n",
       "      <th>instructions</th>\n",
       "      <th>startingBlocks</th>\n",
       "      <th>solution</th>\n",
       "      <th>medianTime</th>\n",
       "      <th>visible</th>\n",
       "    </tr>\n",
       "    <tr>\n",
       "      <th>id</th>\n",
       "      <th></th>\n",
       "      <th></th>\n",
       "      <th></th>\n",
       "      <th></th>\n",
       "      <th></th>\n",
       "      <th></th>\n",
       "    </tr>\n",
       "  </thead>\n",
       "  <tbody>\n",
       "    <tr>\n",
       "      <th>1</th>\n",
       "      <td>Půlka čtverce</td>\n",
       "      <td>[\"text\",\"Co dodat, snaz se.\"]</td>\n",
       "      <td>&lt;xml id=\"startBlocks\" style=\"display: none\"&gt;  ...</td>\n",
       "      <td>for (var count = 0 count &lt; 1 count++) {    Tur...</td>\n",
       "      <td>0</td>\n",
       "      <td>1</td>\n",
       "    </tr>\n",
       "    <tr>\n",
       "      <th>2</th>\n",
       "      <td>Pětiúhelník</td>\n",
       "      <td>[\"text\",\"Pětiúhelník je podobný jako čtverec, ...</td>\n",
       "      <td>NaN</td>\n",
       "      <td>for (var count = 0 count &lt; 5 count++) {    Tur...</td>\n",
       "      <td>0</td>\n",
       "      <td>1</td>\n",
       "    </tr>\n",
       "    <tr>\n",
       "      <th>3</th>\n",
       "      <td>Oprav čtverec</td>\n",
       "      <td>[\"text\",\"Stačí změnit počet opakování a délku ...</td>\n",
       "      <td>&lt;xml xmlns=\"http://www.w3.org/1999/xhtml\"&gt;&lt;var...</td>\n",
       "      <td>Turtle.moveForward(100)Turtle.turnRight(90)Tur...</td>\n",
       "      <td>0</td>\n",
       "      <td>1</td>\n",
       "    </tr>\n",
       "    <tr>\n",
       "      <th>4</th>\n",
       "      <td>Dodělej čtverec</td>\n",
       "      <td>[\"text\",\"Přidej další příkazy pro pohyb dopřed...</td>\n",
       "      <td>&lt;xml xmlns=\"http://www.w3.org/1999/xhtml\"&gt;&lt;var...</td>\n",
       "      <td>Turtle.moveForward(100)Turtle.turnRight(90)Tur...</td>\n",
       "      <td>0</td>\n",
       "      <td>1</td>\n",
       "    </tr>\n",
       "    <tr>\n",
       "      <th>5</th>\n",
       "      <td>Dodělej trojúhelník</td>\n",
       "      <td>[\"text\",\"Přidej další příkazy pro zatočení dop...</td>\n",
       "      <td>&lt;xml xmlns=\"http://www.w3.org/1999/xhtml\"&gt;&lt;var...</td>\n",
       "      <td>Turtle.moveForward(100)Turtle.turnRight(60)Tur...</td>\n",
       "      <td>0</td>\n",
       "      <td>1</td>\n",
       "    </tr>\n",
       "  </tbody>\n",
       "</table>\n",
       "</div>"
      ],
      "text/plain": [
       "                   name                                       instructions  \\\n",
       "id                                                                           \n",
       "1         Půlka čtverce                      [\"text\",\"Co dodat, snaz se.\"]   \n",
       "2           Pětiúhelník  [\"text\",\"Pětiúhelník je podobný jako čtverec, ...   \n",
       "3         Oprav čtverec  [\"text\",\"Stačí změnit počet opakování a délku ...   \n",
       "4       Dodělej čtverec  [\"text\",\"Přidej další příkazy pro pohyb dopřed...   \n",
       "5   Dodělej trojúhelník  [\"text\",\"Přidej další příkazy pro zatočení dop...   \n",
       "\n",
       "                                       startingBlocks  \\\n",
       "id                                                      \n",
       "1   <xml id=\"startBlocks\" style=\"display: none\">  ...   \n",
       "2                                                 NaN   \n",
       "3   <xml xmlns=\"http://www.w3.org/1999/xhtml\"><var...   \n",
       "4   <xml xmlns=\"http://www.w3.org/1999/xhtml\"><var...   \n",
       "5   <xml xmlns=\"http://www.w3.org/1999/xhtml\"><var...   \n",
       "\n",
       "                                             solution  medianTime  visible  \n",
       "id                                                                          \n",
       "1   for (var count = 0 count < 1 count++) {    Tur...           0        1  \n",
       "2   for (var count = 0 count < 5 count++) {    Tur...           0        1  \n",
       "3   Turtle.moveForward(100)Turtle.turnRight(90)Tur...           0        1  \n",
       "4   Turtle.moveForward(100)Turtle.turnRight(90)Tur...           0        1  \n",
       "5   Turtle.moveForward(100)Turtle.turnRight(60)Tur...           0        1  "
      ]
     },
     "execution_count": 3,
     "metadata": {},
     "output_type": "execute_result"
    }
   ],
   "source": [
    "item_df.head()"
   ]
  },
  {
   "cell_type": "code",
   "execution_count": 4,
   "metadata": {},
   "outputs": [
    {
     "data": {
      "text/html": [
       "<div>\n",
       "<style scoped>\n",
       "    .dataframe tbody tr th:only-of-type {\n",
       "        vertical-align: middle;\n",
       "    }\n",
       "\n",
       "    .dataframe tbody tr th {\n",
       "        vertical-align: top;\n",
       "    }\n",
       "\n",
       "    .dataframe thead th {\n",
       "        text-align: right;\n",
       "    }\n",
       "</style>\n",
       "<table border=\"1\" class=\"dataframe\">\n",
       "  <thead>\n",
       "    <tr style=\"text-align: right;\">\n",
       "      <th></th>\n",
       "      <th>id</th>\n",
       "      <th>user</th>\n",
       "      <th>item</th>\n",
       "      <th>correct</th>\n",
       "      <th>moves</th>\n",
       "      <th>responseTime</th>\n",
       "    </tr>\n",
       "  </thead>\n",
       "  <tbody>\n",
       "    <tr>\n",
       "      <th>count</th>\n",
       "      <td>149609.000000</td>\n",
       "      <td>1.496090e+05</td>\n",
       "      <td>149609.000000</td>\n",
       "      <td>149609.000000</td>\n",
       "      <td>149609.0</td>\n",
       "      <td>1.496090e+05</td>\n",
       "    </tr>\n",
       "    <tr>\n",
       "      <th>mean</th>\n",
       "      <td>74805.000000</td>\n",
       "      <td>1.775931e+06</td>\n",
       "      <td>22.042016</td>\n",
       "      <td>0.096799</td>\n",
       "      <td>-1.0</td>\n",
       "      <td>1.468145e+05</td>\n",
       "    </tr>\n",
       "    <tr>\n",
       "      <th>std</th>\n",
       "      <td>43188.542549</td>\n",
       "      <td>3.012258e+05</td>\n",
       "      <td>17.834914</td>\n",
       "      <td>0.295685</td>\n",
       "      <td>0.0</td>\n",
       "      <td>4.471455e+05</td>\n",
       "    </tr>\n",
       "    <tr>\n",
       "      <th>min</th>\n",
       "      <td>1.000000</td>\n",
       "      <td>2.000000e+00</td>\n",
       "      <td>1.000000</td>\n",
       "      <td>0.000000</td>\n",
       "      <td>-1.0</td>\n",
       "      <td>0.000000e+00</td>\n",
       "    </tr>\n",
       "    <tr>\n",
       "      <th>25%</th>\n",
       "      <td>37403.000000</td>\n",
       "      <td>1.691300e+06</td>\n",
       "      <td>6.000000</td>\n",
       "      <td>0.000000</td>\n",
       "      <td>-1.0</td>\n",
       "      <td>3.285000e+04</td>\n",
       "    </tr>\n",
       "    <tr>\n",
       "      <th>50%</th>\n",
       "      <td>74805.000000</td>\n",
       "      <td>1.849861e+06</td>\n",
       "      <td>13.000000</td>\n",
       "      <td>0.000000</td>\n",
       "      <td>-1.0</td>\n",
       "      <td>7.260000e+04</td>\n",
       "    </tr>\n",
       "    <tr>\n",
       "      <th>75%</th>\n",
       "      <td>112207.000000</td>\n",
       "      <td>1.965020e+06</td>\n",
       "      <td>35.000000</td>\n",
       "      <td>0.000000</td>\n",
       "      <td>-1.0</td>\n",
       "      <td>1.550000e+05</td>\n",
       "    </tr>\n",
       "    <tr>\n",
       "      <th>max</th>\n",
       "      <td>149609.000000</td>\n",
       "      <td>2.054128e+06</td>\n",
       "      <td>63.000000</td>\n",
       "      <td>1.000000</td>\n",
       "      <td>-1.0</td>\n",
       "      <td>5.688755e+07</td>\n",
       "    </tr>\n",
       "  </tbody>\n",
       "</table>\n",
       "</div>"
      ],
      "text/plain": [
       "                  id          user           item        correct     moves  \\\n",
       "count  149609.000000  1.496090e+05  149609.000000  149609.000000  149609.0   \n",
       "mean    74805.000000  1.775931e+06      22.042016       0.096799      -1.0   \n",
       "std     43188.542549  3.012258e+05      17.834914       0.295685       0.0   \n",
       "min         1.000000  2.000000e+00       1.000000       0.000000      -1.0   \n",
       "25%     37403.000000  1.691300e+06       6.000000       0.000000      -1.0   \n",
       "50%     74805.000000  1.849861e+06      13.000000       0.000000      -1.0   \n",
       "75%    112207.000000  1.965020e+06      35.000000       0.000000      -1.0   \n",
       "max    149609.000000  2.054128e+06      63.000000       1.000000      -1.0   \n",
       "\n",
       "       responseTime  \n",
       "count  1.496090e+05  \n",
       "mean   1.468145e+05  \n",
       "std    4.471455e+05  \n",
       "min    0.000000e+00  \n",
       "25%    3.285000e+04  \n",
       "50%    7.260000e+04  \n",
       "75%    1.550000e+05  \n",
       "max    5.688755e+07  "
      ]
     },
     "execution_count": 4,
     "metadata": {},
     "output_type": "execute_result"
    }
   ],
   "source": [
    "log_df = pd.read_csv(\"data/new/turtle_log.txt\", delimiter=\";\")\n",
    "log_df.describe()"
   ]
  },
  {
   "cell_type": "code",
   "execution_count": 92,
   "metadata": {
    "scrolled": true
   },
   "outputs": [
    {
     "data": {
      "text/html": [
       "<div>\n",
       "<style scoped>\n",
       "    .dataframe tbody tr th:only-of-type {\n",
       "        vertical-align: middle;\n",
       "    }\n",
       "\n",
       "    .dataframe tbody tr th {\n",
       "        vertical-align: top;\n",
       "    }\n",
       "\n",
       "    .dataframe thead th {\n",
       "        text-align: right;\n",
       "    }\n",
       "</style>\n",
       "<table border=\"1\" class=\"dataframe\">\n",
       "  <thead>\n",
       "    <tr style=\"text-align: right;\">\n",
       "      <th></th>\n",
       "      <th>id</th>\n",
       "      <th>user</th>\n",
       "      <th>item</th>\n",
       "      <th>answer</th>\n",
       "      <th>correct</th>\n",
       "      <th>moves</th>\n",
       "      <th>responseTime</th>\n",
       "      <th>time</th>\n",
       "    </tr>\n",
       "  </thead>\n",
       "  <tbody>\n",
       "    <tr>\n",
       "      <th>64694</th>\n",
       "      <td>64695</td>\n",
       "      <td>1880458</td>\n",
       "      <td>25</td>\n",
       "      <td>Turtle.turnLeft(70, 'Sbz}[2C*(Y2WNLB[h7R9');\\n</td>\n",
       "      <td>0</td>\n",
       "      <td>-1</td>\n",
       "      <td>90600</td>\n",
       "      <td>2018-02-22 07:58:51</td>\n",
       "    </tr>\n",
       "    <tr>\n",
       "      <th>64695</th>\n",
       "      <td>64696</td>\n",
       "      <td>1880458</td>\n",
       "      <td>25</td>\n",
       "      <td>Turtle.turnLeft(20, 'Sbz}[2C*(Y2WNLB[h7R9');\\n</td>\n",
       "      <td>0</td>\n",
       "      <td>-1</td>\n",
       "      <td>100000</td>\n",
       "      <td>2018-02-22 07:59:00</td>\n",
       "    </tr>\n",
       "    <tr>\n",
       "      <th>64696</th>\n",
       "      <td>64697</td>\n",
       "      <td>1880458</td>\n",
       "      <td>25</td>\n",
       "      <td>Turtle.turnLeft(20, 'Sbz}[2C*(Y2WNLB[h7R9');\\n...</td>\n",
       "      <td>0</td>\n",
       "      <td>-1</td>\n",
       "      <td>111050</td>\n",
       "      <td>2018-02-22 07:59:11</td>\n",
       "    </tr>\n",
       "    <tr>\n",
       "      <th>64697</th>\n",
       "      <td>64698</td>\n",
       "      <td>1880458</td>\n",
       "      <td>25</td>\n",
       "      <td>Turtle.turnLeft(25, 'Sbz}[2C*(Y2WNLB[h7R9');\\n...</td>\n",
       "      <td>0</td>\n",
       "      <td>-1</td>\n",
       "      <td>125100</td>\n",
       "      <td>2018-02-22 07:59:25</td>\n",
       "    </tr>\n",
       "    <tr>\n",
       "      <th>64698</th>\n",
       "      <td>64699</td>\n",
       "      <td>1880458</td>\n",
       "      <td>25</td>\n",
       "      <td>Turtle.turnLeft(30, 'Sbz}[2C*(Y2WNLB[h7R9');\\n...</td>\n",
       "      <td>0</td>\n",
       "      <td>-1</td>\n",
       "      <td>136100</td>\n",
       "      <td>2018-02-22 07:59:36</td>\n",
       "    </tr>\n",
       "  </tbody>\n",
       "</table>\n",
       "</div>"
      ],
      "text/plain": [
       "          id     user  item  \\\n",
       "64694  64695  1880458    25   \n",
       "64695  64696  1880458    25   \n",
       "64696  64697  1880458    25   \n",
       "64697  64698  1880458    25   \n",
       "64698  64699  1880458    25   \n",
       "\n",
       "                                                  answer  correct  moves  \\\n",
       "64694     Turtle.turnLeft(70, 'Sbz}[2C*(Y2WNLB[h7R9');\\n        0     -1   \n",
       "64695     Turtle.turnLeft(20, 'Sbz}[2C*(Y2WNLB[h7R9');\\n        0     -1   \n",
       "64696  Turtle.turnLeft(20, 'Sbz}[2C*(Y2WNLB[h7R9');\\n...        0     -1   \n",
       "64697  Turtle.turnLeft(25, 'Sbz}[2C*(Y2WNLB[h7R9');\\n...        0     -1   \n",
       "64698  Turtle.turnLeft(30, 'Sbz}[2C*(Y2WNLB[h7R9');\\n...        0     -1   \n",
       "\n",
       "       responseTime                 time  \n",
       "64694         90600  2018-02-22 07:58:51  \n",
       "64695        100000  2018-02-22 07:59:00  \n",
       "64696        111050  2018-02-22 07:59:11  \n",
       "64697        125100  2018-02-22 07:59:25  \n",
       "64698        136100  2018-02-22 07:59:36  "
      ]
     },
     "execution_count": 92,
     "metadata": {},
     "output_type": "execute_result"
    }
   ],
   "source": [
    "log_df.head()"
   ]
  },
  {
   "cell_type": "code",
   "execution_count": 7,
   "metadata": {
    "scrolled": true
   },
   "outputs": [],
   "source": [
    "from dateutil import parser\n",
    "log_df = log_df[log_df[\"time\"].apply(parser.parse) >= parser.parse(\"2018-02-22\")]"
   ]
  },
  {
   "cell_type": "code",
   "execution_count": 8,
   "metadata": {},
   "outputs": [],
   "source": [
    "import base64"
   ]
  },
  {
   "cell_type": "code",
   "execution_count": 9,
   "metadata": {},
   "outputs": [],
   "source": [
    "def decode_base64(data):\n",
    "    \"\"\"Decode base64, padding being optional.\n",
    "\n",
    "    :param data: Base64 data as an ASCII byte string\n",
    "    :returns: The decoded byte string.\n",
    "\n",
    "    \"\"\"\n",
    "    try:\n",
    "        missing_padding = len(data) % 4\n",
    "        if missing_padding != 0:\n",
    "            data += b'='* (4 - missing_padding)\n",
    "\n",
    "        return base64.decodestring(data)\n",
    "    except Exception:\n",
    "        return None"
   ]
  },
  {
   "cell_type": "code",
   "execution_count": null,
   "metadata": {
    "scrolled": true
   },
   "outputs": [],
   "source": [
    "log_df[\"answer\"] = log_df[\"answer\"].apply(decode_base64)"
   ]
  },
  {
   "cell_type": "code",
   "execution_count": 11,
   "metadata": {},
   "outputs": [
    {
     "data": {
      "text/plain": [
       "array([\"Turtle.turnLeft(70, 'Sbz}[2C*(Y2WNLB[h7R9');\\n\",\n",
       "       \"Turtle.turnLeft(20, 'Sbz}[2C*(Y2WNLB[h7R9');\\n\",\n",
       "       \"Turtle.turnLeft(20, 'Sbz}[2C*(Y2WNLB[h7R9');\\nTurtle.moveForward(100, 'L^$@NV7Mtk7ZkYjz.U3p');\\n\",\n",
       "       ...,\n",
       "       \"Turtle.moveForward(50, '/6/AEHd7c9/aVz@Gy)E)');\\nTurtle.turnRight(45, '!:88}1XXE@*OJlK{mKat');\\nTurtle.turnLeft(45, '*1Oy|1`srePFae)iyjW/');\\n\",\n",
       "       \"Turtle.moveForward(50, '/6/AEHd7c9/aVz@Gy)E)');\\nTurtle.turnRight(45, '!:88}1XXE@*OJlK{mKat');\\nTurtle.turnLeft(45, '*1Oy|1`srePFae)iyjW/');\\n\",\n",
       "       \"Turtle.penColour('#6633ff', '5#ZY{sDB-M_TzdmMNykS');\\nTurtle.moveForward(100, '3=9.{^wFd1`3x;lUZD#]');\\nTurtle.turnRight(90, '#zU?R{{a|M@j1n#gV;kf');\\nTurtle.penColour('#ff0000', ';4`SlrE]wskk7$_0Jlih');\\n\"],\n",
       "      dtype=object)"
      ]
     },
     "execution_count": 11,
     "metadata": {},
     "output_type": "execute_result"
    }
   ],
   "source": [
    "log_df[\"answer\"].values"
   ]
  },
  {
   "cell_type": "code",
   "execution_count": 12,
   "metadata": {},
   "outputs": [
    {
     "data": {
      "text/plain": [
       "'var x, y;\\n\\n/**\\n * Popite tuto funkci...\\n */\\nfunction diamant(x, y) {\\nif(--window.LoopTrap == 0) throw \"Infinite loop.\";\\n  for (var count = 0; count < y; count++) {\\n  if(--window.LoopTrap == 0) throw \"Infinite loop.\";\\n    mnoho_C3_BAheln_C3_ADk(x);\\n    Turtle.turnRight(360 / y, \\'W#}iGxw8z@MEIy79[]bn\\');\\n  }\\n}\\n\\n/**\\n * Popite tuto funkci...\\n */\\nfunction mnoho_C3_BAheln_C3_ADk(x) {\\nif(--window.LoopTrap == 0) throw \"Infinite loop.\";\\n  for (var count2 = 0; count2 < x; count2++) {\\n  if(--window.LoopTrap == 0) throw \"Infinite loop.\";\\n    Turtle.moveForward(50, \\'ny_4c+Pc=(pOzkQpq^7Y\\');\\n    Turtle.turnRight(360 / x, \\'Zuw3+9x[NSZZXlwf2n0M\\');\\n  }\\n}\\n\\n\\ndiamant(5, 10);\\n'"
      ]
     },
     "execution_count": 12,
     "metadata": {},
     "output_type": "execute_result"
    }
   ],
   "source": [
    "log_df.loc[64711, \"answer\"]"
   ]
  },
  {
   "cell_type": "markdown",
   "metadata": {},
   "source": [
    "### Kanonizácia riešení\n",
    "\n",
    "Filtrácia spusteného kódu užívateľa z javascript logov a kanonizácia riešení do tvaru <prikaz(parameter)> zachovávajúc odsadenie pre reprezentáciu zanorenia. "
   ]
  },
  {
   "cell_type": "code",
   "execution_count": 14,
   "metadata": {},
   "outputs": [],
   "source": [
    "def filter_commands(command):\n",
    "    return command.strip().startswith(\"Turtle\") or command.strip().startswith(\"for\")"
   ]
  },
  {
   "cell_type": "code",
   "execution_count": 15,
   "metadata": {},
   "outputs": [],
   "source": [
    "def modify_command(command):\n",
    "    if command.strip().startswith(\"Turtle\"):\n",
    "        out = command.replace(\"Turtle.move\", \"\").replace(\"Turtle.turn\", \"\")\n",
    "        out = out[:out.find(\",\")]+\")\"\n",
    "    elif command.strip().startswith(\"for\"):\n",
    "        # for happened\n",
    "        out = command[command.find(\"< \")+2:]\n",
    "        out = command[:command.find(\"for\")] + \"Repeat(%s)\" % out[:out.find(\";\")]\n",
    "    else:\n",
    "        out = command\n",
    "    return out"
   ]
  },
  {
   "cell_type": "code",
   "execution_count": 16,
   "metadata": {},
   "outputs": [],
   "source": [
    "import os\n",
    "\n",
    "\n",
    "def cannonize_answers(answers_series):\n",
    "    commands_df = answers_series.apply(lambda s: str(s).split(\"\\n\")) \\\n",
    "                                .apply(lambda commands: tuple(filter(filter_commands, commands))) \\\n",
    "                                .apply(pd.Series) \\\n",
    "                                .fillna(\"\") \\\n",
    "                                .applymap(modify_command)\n",
    "    commands_s = commands_df.apply(lambda commands: os.linesep.join(commands[commands.apply(len) > 0]), axis=1)\n",
    "    return commands_s"
   ]
  },
  {
   "cell_type": "code",
   "execution_count": 17,
   "metadata": {
    "scrolled": true
   },
   "outputs": [
    {
     "data": {
      "text/plain": [
       "64694                                              Left(70)\n",
       "64695                                              Left(20)\n",
       "64696                                Left(20)\\nForward(100)\n",
       "64697                                Left(25)\\nForward(100)\n",
       "64698                                Left(30)\\nForward(100)\n",
       "64699      Left(30)\\nForward(100)\\nRight(120)\\nForward(100)\n",
       "64700     Left(30)\\nForward(100)\\nRight(120)\\nForward(10...\n",
       "64701     Left(120)\\nForward(100)\\nRight(120)\\nForward(1...\n",
       "64702     Repeat(4)\\n  Left(120)\\n  Forward(100)\\n  Righ...\n",
       "64703     Repeat(4)\\n  Left(120)\\n  Forward(100)\\n  Righ...\n",
       "64704                                          Forward(100)\n",
       "64705                Repeat(4)\\n  Forward(100)\\n  Right(90)\n",
       "64706     Repeat(4)\\n  Forward(100)\\n  Right(90)\\n  Forw...\n",
       "64707     Repeat(4)\\n  Forward(100)\\n  Right(90)\\nForwar...\n",
       "64708     Repeat(4)\\n  Forward(100)\\n  Right(90)\\nForwar...\n",
       "64709     Repeat(4)\\n  Repeat(4)\\n    Forward(100)\\n    ...\n",
       "64710     Repeat(8)\\n  Repeat(4)\\n    Forward(100)\\n    ...\n",
       "64711       Repeat(y)\\n    Right(360 / y)\\n  Repeat(x)\\n...\n",
       "64712                 Repeat(4)\\n  Forward(50)\\n  Left(180)\n",
       "64713                Repeat(4)\\n  Forward(150)\\n  Left(180)\n",
       "64714                               Forward(100)\\nRight(45)\n",
       "64715                               Forward(100)\\nRight(45)\n",
       "64716                               Forward(100)\\nRight(45)\n",
       "64717                               Forward(100)\\nRight(60)\n",
       "64718                               Forward(100)\\nRight(90)\n",
       "64719     Forward(100)\\nRight(90)\\nForward(50)\\nLeft(60)...\n",
       "64720     Forward(100)\\nRight(90)\\nForward(50)\\nLeft(90)...\n",
       "64721     Forward(100)\\nRight(90)\\nForward(50)\\nLeft(90)...\n",
       "64722         Right(90)\\nForward(50)\\nLeft(90)\\nForward(50)\n",
       "64723     Right(90)\\nForward(100)\\nLeft(90)\\nForward(100...\n",
       "                                ...                        \n",
       "149579    Forward(100)\\nRight(90)\\nForward(100)\\nRight(9...\n",
       "149580    Forward(100)\\nRight(60)\\nRight(60)\\nForward(10...\n",
       "149581                   Forward(100)\\nRight(60)\\nRight(60)\n",
       "149582      Forward(100)\\nRight(60)\\nRight(60)\\nForward(50)\n",
       "149583    Forward(100)\\nRight(60)\\nRight(60)\\nForward(50...\n",
       "149584    Forward(100)\\nRight(60)\\nRight(60)\\nForward(50...\n",
       "149585    Forward(100)\\nRight(60)\\nRight(60)\\nForward(50...\n",
       "149586    Forward(100)\\nRight(60)\\nRight(60)\\nForward(50...\n",
       "149587    Forward(100)\\nRight(60)\\nRight(60)\\nForward(50...\n",
       "149588    Forward(100)\\nRight(60)\\nRight(60)\\nForward(50...\n",
       "149589    Forward(100)\\nRight(60)\\nRight(60)\\nForward(50...\n",
       "149590    Forward(100)\\nRight(60)\\nRight(60)\\nForward(50...\n",
       "149591                                         Forward(100)\n",
       "149592                               Forward(100)\\nLeft(60)\n",
       "149593                     Forward(100)\\nLeft(60)\\nLeft(60)\n",
       "149594                     Forward(100)\\nLeft(60)\\nLeft(45)\n",
       "149595                               Forward(100)\\nLeft(45)\n",
       "149596                     Forward(100)\\nLeft(45)\\nLeft(45)\n",
       "149597        Forward(100)\\nLeft(45)\\nLeft(45)\\nForward(50)\n",
       "149598    Forward(100)\\nLeft(45)\\nLeft(45)\\nForward(50)\\...\n",
       "149599    Forward(100)\\nLeft(45)\\nLeft(45)\\nForward(50)\\...\n",
       "149600    Forward(100)\\nLeft(45)\\nLeft(45)\\nForward(50)\\...\n",
       "149601    Forward(100)\\nLeft(45)\\nLeft(45)\\nForward(50)\\...\n",
       "149602      Repeat(y)\\n    Right(360 / y)\\n  Repeat(x)\\n...\n",
       "149603      Repeat(y)\\n    Right(360 / y)\\n  Repeat(x)\\n...\n",
       "149604      Repeat(y)\\n    Right(360 / y)\\n  Repeat(x)\\n...\n",
       "149605                     Forward(50)\\nRight(45)\\nLeft(45)\n",
       "149606                     Forward(50)\\nRight(45)\\nLeft(45)\n",
       "149607                     Forward(50)\\nRight(45)\\nLeft(45)\n",
       "149608    Turtle.penColour('#6633ff')\\nForward(100)\\nRig...\n",
       "Length: 84915, dtype: object"
      ]
     },
     "execution_count": 17,
     "metadata": {},
     "output_type": "execute_result"
    }
   ],
   "source": [
    "cannonize_answers(log_df[\"answer\"])"
   ]
  },
  {
   "cell_type": "code",
   "execution_count": 54,
   "metadata": {},
   "outputs": [],
   "source": [
    "def get_seq_id(df):\n",
    "    return df.index.values"
   ]
  },
  {
   "cell_type": "markdown",
   "metadata": {},
   "source": [
    "### Graph drawing utilities\n",
    "\n",
    "Inicializácia množiny vrcholov a generácia grafu"
   ]
  },
  {
   "cell_type": "code",
   "execution_count": null,
   "metadata": {},
   "outputs": [],
   "source": [
    "import plotly\n",
    "import plotly.plotly as py\n",
    "import plotly.graph_objs as go\n",
    "\n",
    "import igraph as jgraph\n",
    "from jgraph import *\n",
    "jgraph.__version__\n",
    "\n",
    "py.tools.set_credentials_file(username='stmichal', api_key='MpxBW1OVR6aOfQoaynfc')"
   ]
  },
  {
   "cell_type": "code",
   "execution_count": 30,
   "metadata": {},
   "outputs": [],
   "source": [
    "import networkx as nx\n",
    "from networkx.drawing.nx_agraph import write_dot, graphviz_layout\n",
    "import matplotlib.pyplot as plt\n",
    "\n",
    "def generate_nx_graph(edge_set):\n",
    "    \n",
    "    G = nx.DiGraph()\n",
    "\n",
    "    all_v = {v[0] for v in edge_set}.union({v[1] for v in edge_set})\n",
    "    \n",
    "    map(G.add_node, all_v)\n",
    "    G.add_edges_from(list(edge_set))\n",
    "    \n",
    "    return G"
   ]
  },
  {
   "cell_type": "code",
   "execution_count": 31,
   "metadata": {},
   "outputs": [],
   "source": [
    "def make_annotations(pos, text, font_size=8, font_color='rgb(0,0,0)'):\n",
    "    L=len(pos)\n",
    "    if len(text)!=L:\n",
    "        raise ValueError('The lists pos and text must have the same len')\n",
    "    annotations = go.Annotations()\n",
    "    M = max([p[1] for p in pos.values()])\n",
    "    for k in pos.keys():\n",
    "        annotations.append(\n",
    "            go.Annotation(\n",
    "                text=k, # or replace labels with a different list for the text within the circle  \n",
    "                x=pos[k][0], y=pos[k][1],\n",
    "                xref='x1', yref='y1',\n",
    "                font=dict(color=font_color, size=font_size),\n",
    "                showarrow=True)\n",
    "        )\n",
    "    return annotations  "
   ]
  },
  {
   "cell_type": "code",
   "execution_count": 36,
   "metadata": {},
   "outputs": [],
   "source": [
    "import numpy as np"
   ]
  },
  {
   "cell_type": "markdown",
   "metadata": {},
   "source": [
    "### Vizualizácia grafu"
   ]
  },
  {
   "cell_type": "code",
   "execution_count": 37,
   "metadata": {},
   "outputs": [],
   "source": [
    "def draw_tree(g_dict, game_id, correct_answs):\n",
    "    edges_list = g_dict.keys()\n",
    "    G = generate_nx_graph(edges_list)\n",
    "    pos = graphviz_layout(G, prog='dot')\n",
    "    \n",
    "    final_pos = dict()\n",
    "    for k in correct_answs.values:\n",
    "        try:\n",
    "            final_pos[k] = pos[k]\n",
    "            \n",
    "        except KeyError:\n",
    "            pass\n",
    "#             print \"Final State for Game %s not found in responses\" % (game_id)\n",
    "            \n",
    "    pos_reduced = {k: pos[k] for k in set(pos.keys()) - set(final_pos.keys())}\n",
    "    \n",
    "    Xn = [p[0] for p in pos_reduced.values()]\n",
    "    Yn = [p[1] for p in pos_reduced.values()]\n",
    "\n",
    "    Xe = []\n",
    "    Ye = []    \n",
    "    widths = []\n",
    "    \n",
    "    for edge in G.edges:\n",
    "        Xe += (pos[edge[0]][0], pos[edge[1]][0])\n",
    "        Ye += (pos[edge[0]][1], pos[edge[1]][1])\n",
    "        widths += [g_dict[(edge[0], edge[1])]]\n",
    "        \n",
    "    Xe = pd.Series(Xe)\n",
    "    Ye = pd.Series(Ye)\n",
    "\n",
    "    widths = pd.Series(sum(map(lambda x: [x, x], widths), []))\n",
    "\n",
    "    # Create Plotly Traces\n",
    "    lines = [go.Scatter(x=Xe[widths == w],\n",
    "                       y=Ye[widths == w],\n",
    "                       mode='lines+text',\n",
    "                       opacity=0.6,\n",
    "                       line=dict(color='rgb(%s,%s,%s)' % tuple([255/1.2-int(float(w)/max(widths)*255/2)]*3), width=2))\n",
    "             for w in widths.unique()]\n",
    "    dots = go.Scatter(x=Xn,\n",
    "                      y=Yn,\n",
    "                      mode='markers',\n",
    "                      name='fail',\n",
    "                      marker=dict(symbol='dot',\n",
    "                                    size=18, \n",
    "                                    color='#6175c1',    #'#DB4551', \n",
    "                                    line=dict(color='rgb(50,50,50)', width=1)\n",
    "                                    ),\n",
    "                      text=pos_reduced.keys(),\n",
    "                      hoverinfo='text',\n",
    "                      opacity=0.6\n",
    "                      )\n",
    "    final_dots = go.Scatter(x=[p[0] for p in final_pos.values()],\n",
    "                            y=[p[1] for p in final_pos.values()],\n",
    "                            mode='markers',\n",
    "                            name='success',\n",
    "                            marker=dict(symbol='dot',\n",
    "                                    size=18, \n",
    "                                    color='#006600',    #'#DB4551', \n",
    "                                    line=dict(color='rgb(50,50,50)', width=1)\n",
    "                                    ),\n",
    "                            text=final_pos.keys(),\n",
    "                            hoverinfo='text',\n",
    "                            opacity=0.8\n",
    "                      )\n",
    "\n",
    "    # Create Text Inside the Circle via Annotations\n",
    "    axis = dict(showline=False, # hide axis line, grid, ticklabels and  title\n",
    "                zeroline=False,\n",
    "                showgrid=False,\n",
    "                showticklabels=False,\n",
    "                )\n",
    "\n",
    "    layout = dict(title= 'Transition graph for Game #%s' % game_id,  \n",
    "                  font=dict(size=12),\n",
    "                  showlegend=False,\n",
    "                  xaxis=go.XAxis(axis),\n",
    "                  yaxis=go.YAxis(axis),\n",
    "                  width=1000,\n",
    "                  height=1000,\n",
    "                  margin=dict(l=40, r=40, b=85, t=100),\n",
    "                  hovermode='closest',\n",
    "                  plot_bgcolor='rgb(256,256,256)'          \n",
    "                  )\n",
    "    # Plot a tree\n",
    "    data=go.Data(lines+[dots, final_dots])\n",
    "        \n",
    "    fig=dict(data=data, layout=layout)\n",
    "    return fig"
   ]
  },
  {
   "cell_type": "code",
   "execution_count": 39,
   "metadata": {},
   "outputs": [],
   "source": [
    "def filter_edges_below_lim(edge_dict, lim=2):\n",
    "    return {k: edge_dict[k] for k in edge_dict.keys() if edge_dict[k] >= lim}"
   ]
  },
  {
   "cell_type": "code",
   "execution_count": 125,
   "metadata": {},
   "outputs": [],
   "source": [
    "def get_edges_for_game(game_id, game_logs):\n",
    "    edge_dict = dict()\n",
    "    seq_ids = game_logs.groupby(by=\"user\", sort=False).apply(get_seq_id)\n",
    "    for seq in seq_ids:\n",
    "        seq_contents = [\" \"] + list(game_logs.loc[seq, \"answer\"].values)\n",
    "        seq_contents = filter(lambda s: not pd.isnull(s) and len(s) > 0, seq_contents)\n",
    "        for seq_i in range(1, len(seq_contents)):\n",
    "            try:\n",
    "                edge_dict[(seq_contents[seq_i-1], seq_contents[seq_i])] += 1\n",
    "            except KeyError:\n",
    "                edge_dict[(seq_contents[seq_i-1], seq_contents[seq_i])] = 1\n",
    "                \n",
    "    return edge_dict"
   ]
  },
  {
   "cell_type": "code",
   "execution_count": null,
   "metadata": {},
   "outputs": [],
   "source": [
    "# to get pygraphviz running, we need to compile and install graphviz backend:\n",
    "# sudo apt-get install graphviz libgraphviz-dev graphviz-dev pkg-config\n",
    "# pip install pygraphviz"
   ]
  },
  {
   "cell_type": "code",
   "execution_count": 162,
   "metadata": {
    "scrolled": false
   },
   "outputs": [
    {
     "name": "stderr",
     "output_type": "stream",
     "text": [
      "/home/michal/miniconda3/envs/python2/lib/python2.7/site-packages/ipykernel_launcher.py:9: SettingWithCopyWarning:\n",
      "\n",
      "\n",
      "A value is trying to be set on a copy of a slice from a DataFrame.\n",
      "Try using .loc[row_indexer,col_indexer] = value instead\n",
      "\n",
      "See the caveats in the documentation: http://pandas.pydata.org/pandas-docs/stable/indexing.html#indexing-view-versus-copy\n",
      "\n",
      "/home/michal/miniconda3/envs/python2/lib/python2.7/site-packages/ipykernel_launcher.py:10: SettingWithCopyWarning:\n",
      "\n",
      "\n",
      "A value is trying to be set on a copy of a slice from a DataFrame\n",
      "\n",
      "See the caveats in the documentation: http://pandas.pydata.org/pandas-docs/stable/indexing.html#indexing-view-versus-copy\n",
      "\n"
     ]
    },
    {
     "data": {
      "text/html": [
       "<iframe id=\"igraph\" scrolling=\"no\" style=\"border:none;\" seamless=\"seamless\" src=\"https://plot.ly/~stmichal/41.embed\" height=\"1000px\" width=\"1000px\"></iframe>"
      ],
      "text/plain": [
       "<plotly.tools.PlotlyDisplay object>"
      ]
     },
     "execution_count": 162,
     "metadata": {},
     "output_type": "execute_result"
    }
   ],
   "source": [
    "# id of the game is visible in the suffix of the game url, e.g:\n",
    "# https://www.umimeprogramovat.cz/zelvi-grafika-jednoduche/12 lays under game_id = 12\n",
    "game_id = 55\n",
    "# min # of transitions through the edge to be visible\n",
    "edges_support_min = 3\n",
    "\n",
    "# collect each game sequences from one player, and construct a graph upon it\n",
    "game_logs = log_df[log_df[\"item\"] == game_id]\n",
    "game_logs[\"answer\"] = cannonize_answers(log_df[log_df[\"item\"] == game_id][\"answer\"])\n",
    "game_logs.sort_values(by=\"time\", inplace=True)\n",
    "\n",
    "# construct a graph\n",
    "edge_dict = get_edges_for_game(game_id, game_logs)\n",
    "\n",
    "correct_answs = game_logs[game_logs[\"correct\"] == 1][\"answer\"]\n",
    "\n",
    "edge_dict_filtered = filter_edges_below_lim(edge_dict, lim=edges_support_min)\n",
    "\n",
    "fig = draw_tree(edge_dict_filtered, game_id, correct_answs)\n",
    "\n",
    "py.iplot(fig, file_id='Game %s edge support %s' % (game_id, edges_support_min))"
   ]
  },
  {
   "cell_type": "code",
   "execution_count": 47,
   "metadata": {},
   "outputs": [
    {
     "data": {
      "text/plain": [
       "count    260.000000\n",
       "mean       2.076923\n",
       "std        3.262316\n",
       "min        1.000000\n",
       "25%        1.000000\n",
       "50%        1.000000\n",
       "75%        2.000000\n",
       "max       31.000000\n",
       "dtype: float64"
      ]
     },
     "execution_count": 47,
     "metadata": {},
     "output_type": "execute_result"
    }
   ],
   "source": [
    "pd.Series(edge_dict.values()).describe()"
   ]
  },
  {
   "cell_type": "markdown",
   "metadata": {},
   "source": [
    "## Analytická časť"
   ]
  },
  {
   "cell_type": "markdown",
   "metadata": {},
   "source": [
    "### Prísnejšia kanonizácia\n",
    "\n",
    "Z grafov vidno, že často sa frekventované cesty mieriace do cieľa líšia poradím v ktorom užívateľ ladil parametre programu. Niektorí užívatelia najskôr riešia \"kalibráciu\" počtu opakovaní cyklov a la +-1, niektorí riešia najskôr dĺžku kroku korytnačky, niektorí kalibrujú úhol natočenia. \n",
    "\n",
    "Takéto modifikácie by sa mali zvažovať všetky ako ekvivalentne správne. Pritom pár krokov naviac za účelom kalibrácie je jednoznačne cesta k správnemu cieľu. Napr. z hry 55 vyššie vidno, že takéto kalibrácie majú za následok väčšinu vetvenia v grafe.\n",
    "\n",
    "Z tejto motivácie som implementoval aj prísnejšiu kanonizáciu zanedbávajúcu všetky parametre metód, tj zohľadňujúcu iba poradie príkazov v sekvencii."
   ]
  },
  {
   "cell_type": "code",
   "execution_count": 73,
   "metadata": {},
   "outputs": [],
   "source": [
    "def modify_command_no_params(command):\n",
    "    if command.strip().startswith(\"Turtle\"):\n",
    "        out = command.replace(\"Turtle.move\", \"\").replace(\"Turtle.turn\", \"\")\n",
    "        out = out[:out.find(\"(\")]\n",
    "    elif command.strip().startswith(\"for\"):\n",
    "        out = command[command.find(\"< \")+2:]\n",
    "        out = command[:command.find(\"for\")] + \"Repeat\"\n",
    "    else:\n",
    "        out = command\n",
    "    return out"
   ]
  },
  {
   "cell_type": "code",
   "execution_count": 74,
   "metadata": {},
   "outputs": [],
   "source": [
    "def cannonize_answers_no_params(answers_series):\n",
    "    commands_df = answers_series.apply(lambda s: str(s).split(\"\\n\")) \\\n",
    "                                .apply(lambda commands: tuple(filter(filter_commands, commands))) \\\n",
    "                                .apply(pd.Series) \\\n",
    "                                .fillna(\"\") \\\n",
    "                                .applymap(modify_command_no_params)\n",
    "    commands_s = commands_df.apply(lambda commands: os.linesep.join(commands[commands.apply(len) > 0]), axis=1)\n",
    "    return commands_s"
   ]
  },
  {
   "cell_type": "code",
   "execution_count": 163,
   "metadata": {
    "scrolled": false
   },
   "outputs": [
    {
     "name": "stderr",
     "output_type": "stream",
     "text": [
      "/home/michal/miniconda3/envs/python2/lib/python2.7/site-packages/ipykernel_launcher.py:9: SettingWithCopyWarning:\n",
      "\n",
      "\n",
      "A value is trying to be set on a copy of a slice from a DataFrame.\n",
      "Try using .loc[row_indexer,col_indexer] = value instead\n",
      "\n",
      "See the caveats in the documentation: http://pandas.pydata.org/pandas-docs/stable/indexing.html#indexing-view-versus-copy\n",
      "\n",
      "/home/michal/miniconda3/envs/python2/lib/python2.7/site-packages/ipykernel_launcher.py:10: SettingWithCopyWarning:\n",
      "\n",
      "\n",
      "A value is trying to be set on a copy of a slice from a DataFrame\n",
      "\n",
      "See the caveats in the documentation: http://pandas.pydata.org/pandas-docs/stable/indexing.html#indexing-view-versus-copy\n",
      "\n"
     ]
    },
    {
     "data": {
      "text/html": [
       "<iframe id=\"igraph\" scrolling=\"no\" style=\"border:none;\" seamless=\"seamless\" src=\"https://plot.ly/~stmichal/43.embed\" height=\"1000px\" width=\"1000px\"></iframe>"
      ],
      "text/plain": [
       "<plotly.tools.PlotlyDisplay object>"
      ]
     },
     "execution_count": 163,
     "metadata": {},
     "output_type": "execute_result"
    }
   ],
   "source": [
    "# id of the game is visible in the suffix of the game url, e.g:\n",
    "# https://www.umimeprogramovat.cz/zelvi-grafika-jednoduche/12 lays under game_id = 12\n",
    "game_id = 55\n",
    "# min # of transitions through the edge to be visible\n",
    "edges_support_min = 3\n",
    "\n",
    "# collect each game sequences from one player, and construct a graph upon it\n",
    "game_logs = log_df[log_df[\"item\"] == game_id]\n",
    "game_logs[\"answer\"] = cannonize_answers_no_params(log_df[log_df[\"item\"] == game_id][\"answer\"])\n",
    "game_logs.sort_values(by=\"time\", inplace=True)\n",
    "seq_ids = game_logs.groupby(by=\"user\", sort=False).apply(get_seq_id)\n",
    "\n",
    "# construct a graph\n",
    "edge_dict = dict()  \n",
    "for seq in seq_ids:\n",
    "    seq_contents = [\" \"] + list(game_logs.loc[seq, \"answer\"].values)\n",
    "    seq_contents = filter(lambda s: not pd.isnull(s) and len(s) > 0, seq_contents)\n",
    "    for seq_i in range(1, len(seq_contents)):\n",
    "        try:\n",
    "            edge_dict[(seq_contents[seq_i-1], seq_contents[seq_i])] += 1\n",
    "        except KeyError:\n",
    "            edge_dict[(seq_contents[seq_i-1], seq_contents[seq_i])] = 1\n",
    "\n",
    "correct_answs = game_logs[game_logs[\"correct\"] == 1][\"answer\"]\n",
    "\n",
    "edge_dict_filtered = filter_edges_below_lim(edge_dict, lim=edges_support_min)\n",
    "\n",
    "fig = draw_tree(edge_dict_filtered, game_id, correct_answs)\n",
    "\n",
    "py.iplot(fig, file_id='Game %s edge support %s' % (\"Zajímavý vzor\", edges_support_min))    "
   ]
  },
  {
   "cell_type": "code",
   "execution_count": 114,
   "metadata": {},
   "outputs": [
    {
     "data": {
      "text/plain": [
       "count    123.000000\n",
       "mean       4.390244\n",
       "std       14.769616\n",
       "min        1.000000\n",
       "25%        1.000000\n",
       "50%        1.000000\n",
       "75%        1.500000\n",
       "max      141.000000\n",
       "dtype: float64"
      ]
     },
     "execution_count": 114,
     "metadata": {},
     "output_type": "execute_result"
    }
   ],
   "source": [
    "pd.Series(edge_dict.values()).describe()"
   ]
  },
  {
   "cell_type": "markdown",
   "metadata": {},
   "source": [
    "### Kanonizácia: záver\n",
    "\n",
    "V grafe pre rovnakú hru vyššie vidíme podstatnú redukciu množstva častých stavov prísnejšom kanonizáciou, so stratou informácie o parametroch metód. Nenapadá ma ale, ako táto informácia (o parametroch) môže byť užitočná pre generáciu nápovied, čo mal byť hlavný účel klasifikácie."
   ]
  },
  {
   "cell_type": "markdown",
   "metadata": {},
   "source": [
    "## Výber vhodnej metriky pre reprezentáciu skúsenosti užívateľa\n",
    "\n",
    "Nižšie skúmame koreláciu niekoľkých latentných vlastností s celkovým časom riešenia úlohy, za účelom ohodnotenia schopností užívateľa nejakou spojitou metrikou. Predpokladáme pritom, že užitočné metriky budú s časom riešenia korelovať významne."
   ]
  },
  {
   "cell_type": "code",
   "execution_count": 113,
   "metadata": {},
   "outputs": [
    {
     "data": {
      "text/html": [
       "<div>\n",
       "<style scoped>\n",
       "    .dataframe tbody tr th:only-of-type {\n",
       "        vertical-align: middle;\n",
       "    }\n",
       "\n",
       "    .dataframe tbody tr th {\n",
       "        vertical-align: top;\n",
       "    }\n",
       "\n",
       "    .dataframe thead th {\n",
       "        text-align: right;\n",
       "    }\n",
       "</style>\n",
       "<table border=\"1\" class=\"dataframe\">\n",
       "  <thead>\n",
       "    <tr style=\"text-align: right;\">\n",
       "      <th></th>\n",
       "      <th>id</th>\n",
       "      <th>user</th>\n",
       "      <th>item</th>\n",
       "      <th>answer</th>\n",
       "      <th>correct</th>\n",
       "      <th>moves</th>\n",
       "      <th>responseTime</th>\n",
       "      <th>time</th>\n",
       "    </tr>\n",
       "  </thead>\n",
       "  <tbody>\n",
       "    <tr>\n",
       "      <th>64694</th>\n",
       "      <td>64695</td>\n",
       "      <td>1880458</td>\n",
       "      <td>25</td>\n",
       "      <td>Turtle.turnLeft(70, 'Sbz}[2C*(Y2WNLB[h7R9');\\n</td>\n",
       "      <td>0</td>\n",
       "      <td>-1</td>\n",
       "      <td>90600</td>\n",
       "      <td>2018-02-22 07:58:51</td>\n",
       "    </tr>\n",
       "    <tr>\n",
       "      <th>64695</th>\n",
       "      <td>64696</td>\n",
       "      <td>1880458</td>\n",
       "      <td>25</td>\n",
       "      <td>Turtle.turnLeft(20, 'Sbz}[2C*(Y2WNLB[h7R9');\\n</td>\n",
       "      <td>0</td>\n",
       "      <td>-1</td>\n",
       "      <td>100000</td>\n",
       "      <td>2018-02-22 07:59:00</td>\n",
       "    </tr>\n",
       "    <tr>\n",
       "      <th>64696</th>\n",
       "      <td>64697</td>\n",
       "      <td>1880458</td>\n",
       "      <td>25</td>\n",
       "      <td>Turtle.turnLeft(20, 'Sbz}[2C*(Y2WNLB[h7R9');\\n...</td>\n",
       "      <td>0</td>\n",
       "      <td>-1</td>\n",
       "      <td>111050</td>\n",
       "      <td>2018-02-22 07:59:11</td>\n",
       "    </tr>\n",
       "    <tr>\n",
       "      <th>64697</th>\n",
       "      <td>64698</td>\n",
       "      <td>1880458</td>\n",
       "      <td>25</td>\n",
       "      <td>Turtle.turnLeft(25, 'Sbz}[2C*(Y2WNLB[h7R9');\\n...</td>\n",
       "      <td>0</td>\n",
       "      <td>-1</td>\n",
       "      <td>125100</td>\n",
       "      <td>2018-02-22 07:59:25</td>\n",
       "    </tr>\n",
       "    <tr>\n",
       "      <th>64698</th>\n",
       "      <td>64699</td>\n",
       "      <td>1880458</td>\n",
       "      <td>25</td>\n",
       "      <td>Turtle.turnLeft(30, 'Sbz}[2C*(Y2WNLB[h7R9');\\n...</td>\n",
       "      <td>0</td>\n",
       "      <td>-1</td>\n",
       "      <td>136100</td>\n",
       "      <td>2018-02-22 07:59:36</td>\n",
       "    </tr>\n",
       "    <tr>\n",
       "      <th>64699</th>\n",
       "      <td>64700</td>\n",
       "      <td>1880458</td>\n",
       "      <td>25</td>\n",
       "      <td>Turtle.turnLeft(30, 'Sbz}[2C*(Y2WNLB[h7R9');\\n...</td>\n",
       "      <td>0</td>\n",
       "      <td>-1</td>\n",
       "      <td>186500</td>\n",
       "      <td>2018-02-22 08:00:27</td>\n",
       "    </tr>\n",
       "    <tr>\n",
       "      <th>64700</th>\n",
       "      <td>64701</td>\n",
       "      <td>1880458</td>\n",
       "      <td>25</td>\n",
       "      <td>Turtle.turnLeft(30, 'Sbz}[2C*(Y2WNLB[h7R9');\\n...</td>\n",
       "      <td>0</td>\n",
       "      <td>-1</td>\n",
       "      <td>232850</td>\n",
       "      <td>2018-02-22 08:01:13</td>\n",
       "    </tr>\n",
       "    <tr>\n",
       "      <th>64701</th>\n",
       "      <td>64702</td>\n",
       "      <td>1880458</td>\n",
       "      <td>25</td>\n",
       "      <td>Turtle.turnLeft(120, 'Sbz}[2C*(Y2WNLB[h7R9');\\...</td>\n",
       "      <td>0</td>\n",
       "      <td>-1</td>\n",
       "      <td>313850</td>\n",
       "      <td>2018-02-22 08:02:34</td>\n",
       "    </tr>\n",
       "    <tr>\n",
       "      <th>64702</th>\n",
       "      <td>64703</td>\n",
       "      <td>1880458</td>\n",
       "      <td>25</td>\n",
       "      <td>for (var count = 0; count &lt; 4; count++) {\\nif(...</td>\n",
       "      <td>0</td>\n",
       "      <td>-1</td>\n",
       "      <td>337400</td>\n",
       "      <td>2018-02-22 08:02:58</td>\n",
       "    </tr>\n",
       "    <tr>\n",
       "      <th>64703</th>\n",
       "      <td>64704</td>\n",
       "      <td>1880458</td>\n",
       "      <td>25</td>\n",
       "      <td>for (var count = 0; count &lt; 4; count++) {\\nif(...</td>\n",
       "      <td>1</td>\n",
       "      <td>-1</td>\n",
       "      <td>492900</td>\n",
       "      <td>2018-02-22 08:05:40</td>\n",
       "    </tr>\n",
       "  </tbody>\n",
       "</table>\n",
       "</div>"
      ],
      "text/plain": [
       "          id     user  item  \\\n",
       "64694  64695  1880458    25   \n",
       "64695  64696  1880458    25   \n",
       "64696  64697  1880458    25   \n",
       "64697  64698  1880458    25   \n",
       "64698  64699  1880458    25   \n",
       "64699  64700  1880458    25   \n",
       "64700  64701  1880458    25   \n",
       "64701  64702  1880458    25   \n",
       "64702  64703  1880458    25   \n",
       "64703  64704  1880458    25   \n",
       "\n",
       "                                                  answer  correct  moves  \\\n",
       "64694     Turtle.turnLeft(70, 'Sbz}[2C*(Y2WNLB[h7R9');\\n        0     -1   \n",
       "64695     Turtle.turnLeft(20, 'Sbz}[2C*(Y2WNLB[h7R9');\\n        0     -1   \n",
       "64696  Turtle.turnLeft(20, 'Sbz}[2C*(Y2WNLB[h7R9');\\n...        0     -1   \n",
       "64697  Turtle.turnLeft(25, 'Sbz}[2C*(Y2WNLB[h7R9');\\n...        0     -1   \n",
       "64698  Turtle.turnLeft(30, 'Sbz}[2C*(Y2WNLB[h7R9');\\n...        0     -1   \n",
       "64699  Turtle.turnLeft(30, 'Sbz}[2C*(Y2WNLB[h7R9');\\n...        0     -1   \n",
       "64700  Turtle.turnLeft(30, 'Sbz}[2C*(Y2WNLB[h7R9');\\n...        0     -1   \n",
       "64701  Turtle.turnLeft(120, 'Sbz}[2C*(Y2WNLB[h7R9');\\...        0     -1   \n",
       "64702  for (var count = 0; count < 4; count++) {\\nif(...        0     -1   \n",
       "64703  for (var count = 0; count < 4; count++) {\\nif(...        1     -1   \n",
       "\n",
       "       responseTime                 time  \n",
       "64694         90600  2018-02-22 07:58:51  \n",
       "64695        100000  2018-02-22 07:59:00  \n",
       "64696        111050  2018-02-22 07:59:11  \n",
       "64697        125100  2018-02-22 07:59:25  \n",
       "64698        136100  2018-02-22 07:59:36  \n",
       "64699        186500  2018-02-22 08:00:27  \n",
       "64700        232850  2018-02-22 08:01:13  \n",
       "64701        313850  2018-02-22 08:02:34  \n",
       "64702        337400  2018-02-22 08:02:58  \n",
       "64703        492900  2018-02-22 08:05:40  "
      ]
     },
     "execution_count": 113,
     "metadata": {},
     "output_type": "execute_result"
    }
   ],
   "source": [
    "log_df.head(10)"
   ]
  },
  {
   "cell_type": "markdown",
   "metadata": {},
   "source": [
    "### Korelácia dĺžky cesty s časom riešenia"
   ]
  },
  {
   "cell_type": "code",
   "execution_count": 110,
   "metadata": {
    "scrolled": true
   },
   "outputs": [
    {
     "data": {
      "text/html": [
       "<div>\n",
       "<style scoped>\n",
       "    .dataframe tbody tr th:only-of-type {\n",
       "        vertical-align: middle;\n",
       "    }\n",
       "\n",
       "    .dataframe tbody tr th {\n",
       "        vertical-align: top;\n",
       "    }\n",
       "\n",
       "    .dataframe thead th {\n",
       "        text-align: right;\n",
       "    }\n",
       "</style>\n",
       "<table border=\"1\" class=\"dataframe\">\n",
       "  <thead>\n",
       "    <tr style=\"text-align: right;\">\n",
       "      <th></th>\n",
       "      <th></th>\n",
       "      <th>answer</th>\n",
       "      <th>responseTime</th>\n",
       "    </tr>\n",
       "    <tr>\n",
       "      <th>user</th>\n",
       "      <th>item</th>\n",
       "      <th></th>\n",
       "      <th></th>\n",
       "    </tr>\n",
       "  </thead>\n",
       "  <tbody>\n",
       "    <tr>\n",
       "      <th>2</th>\n",
       "      <th>4</th>\n",
       "      <td>1</td>\n",
       "      <td>14300</td>\n",
       "    </tr>\n",
       "    <tr>\n",
       "      <th rowspan=\"9\" valign=\"top\">12</th>\n",
       "      <th>3</th>\n",
       "      <td>1</td>\n",
       "      <td>35600</td>\n",
       "    </tr>\n",
       "    <tr>\n",
       "      <th>4</th>\n",
       "      <td>2</td>\n",
       "      <td>182800</td>\n",
       "    </tr>\n",
       "    <tr>\n",
       "      <th>8</th>\n",
       "      <td>2</td>\n",
       "      <td>175150</td>\n",
       "    </tr>\n",
       "    <tr>\n",
       "      <th>11</th>\n",
       "      <td>2</td>\n",
       "      <td>64950</td>\n",
       "    </tr>\n",
       "    <tr>\n",
       "      <th>24</th>\n",
       "      <td>6</td>\n",
       "      <td>444750</td>\n",
       "    </tr>\n",
       "    <tr>\n",
       "      <th>33</th>\n",
       "      <td>1</td>\n",
       "      <td>12950</td>\n",
       "    </tr>\n",
       "    <tr>\n",
       "      <th>35</th>\n",
       "      <td>3</td>\n",
       "      <td>740600</td>\n",
       "    </tr>\n",
       "    <tr>\n",
       "      <th>36</th>\n",
       "      <td>4</td>\n",
       "      <td>114750</td>\n",
       "    </tr>\n",
       "    <tr>\n",
       "      <th>41</th>\n",
       "      <td>4</td>\n",
       "      <td>183950</td>\n",
       "    </tr>\n",
       "  </tbody>\n",
       "</table>\n",
       "</div>"
      ],
      "text/plain": [
       "           answer  responseTime\n",
       "user item                      \n",
       "2    4          1         14300\n",
       "12   3          1         35600\n",
       "     4          2        182800\n",
       "     8          2        175150\n",
       "     11         2         64950\n",
       "     24         6        444750\n",
       "     33         1         12950\n",
       "     35         3        740600\n",
       "     36         4        114750\n",
       "     41         4        183950"
      ]
     },
     "execution_count": 110,
     "metadata": {},
     "output_type": "execute_result"
    }
   ],
   "source": [
    "no_answers = log_df.groupby(by=[\"user\", \"item\"]).count()[\"answer\"]\n",
    "time_lapses = log_df.groupby(by=[\"user\", \"item\"])[\"responseTime\"].sum()\n",
    "answers_times_df = pd.DataFrame(no_answers).join(pd.DataFrame(time_lapses))\n",
    "answers_times_df.head(10)"
   ]
  },
  {
   "cell_type": "code",
   "execution_count": 111,
   "metadata": {},
   "outputs": [
    {
     "data": {
      "text/html": [
       "<div>\n",
       "<style scoped>\n",
       "    .dataframe tbody tr th:only-of-type {\n",
       "        vertical-align: middle;\n",
       "    }\n",
       "\n",
       "    .dataframe tbody tr th {\n",
       "        vertical-align: top;\n",
       "    }\n",
       "\n",
       "    .dataframe thead th {\n",
       "        text-align: right;\n",
       "    }\n",
       "</style>\n",
       "<table border=\"1\" class=\"dataframe\">\n",
       "  <thead>\n",
       "    <tr style=\"text-align: right;\">\n",
       "      <th></th>\n",
       "      <th>answer</th>\n",
       "      <th>responseTime</th>\n",
       "    </tr>\n",
       "  </thead>\n",
       "  <tbody>\n",
       "    <tr>\n",
       "      <th>answer</th>\n",
       "      <td>1.000000</td>\n",
       "      <td>0.622723</td>\n",
       "    </tr>\n",
       "    <tr>\n",
       "      <th>responseTime</th>\n",
       "      <td>0.622723</td>\n",
       "      <td>1.000000</td>\n",
       "    </tr>\n",
       "  </tbody>\n",
       "</table>\n",
       "</div>"
      ],
      "text/plain": [
       "                answer  responseTime\n",
       "answer        1.000000      0.622723\n",
       "responseTime  0.622723      1.000000"
      ]
     },
     "execution_count": 111,
     "metadata": {},
     "output_type": "execute_result"
    }
   ],
   "source": [
    "answers_times_df.corr()"
   ]
  },
  {
   "cell_type": "markdown",
   "metadata": {},
   "source": [
    "### Korelácia priemernej vzialenosti riešenia od najkratšej cesty k riešeniu s časom riešenia\n",
    "\n",
    "Komplikovanejšia metrika, ktorá predpokladá, že najlepší kandidáti nasledujú najkratšiu cestu riešenia - vzdialenosť uzlu od tejto cesty je potom parametrom každého vrcholu. Metrika priemernej vzdialenosti potom udáva ako presne užívateľ nasledoval ideálnu cestu - čím nižšia hodnota, tým presnejšie."
   ]
  },
  {
   "cell_type": "code",
   "execution_count": null,
   "metadata": {
    "scrolled": true
   },
   "outputs": [],
   "source": [
    "means = []\n",
    "times = []\n",
    "\n",
    "# selection of min path to s successful solution\n",
    "for game_id in log_df[\"item\"].unique():\n",
    "    print \"Progress: on game %s\" % game_id\n",
    "    # collect each game sequences from one player, and construct a graph upon it\n",
    "    game_logs = log_df[log_df[\"item\"] == game_id]\n",
    "    game_logs[\"answer\"] = cannonize_answers(log_df[log_df[\"item\"] == game_id][\"answer\"])\n",
    "    game_logs.sort_values(by=\"time\", inplace=True)\n",
    "    \n",
    "    correct_answs = game_logs[game_logs[\"correct\"] == 1][\"answer\"]\n",
    "\n",
    "    # construct a graph\n",
    "    edge_dict = get_edges_for_game(game_id, game_logs)\n",
    "    edges_list = edge_dict.keys()\n",
    "    G = generate_nx_graph(edges_list)\n",
    "    # reconstruct paths from root to each successful solution\n",
    "    paths = [nx.shortest_path(G, source=\" \", target=final_state) for final_state in correct_answs]\n",
    "    try:\n",
    "        # select the minimal path to solution as a pivoting path\n",
    "        min_path = min(paths, key=len)\n",
    "        game_opt_paths[game_id] = min_path\n",
    "    except ValueError:\n",
    "        game_opt_paths[game_id] = [\" \"]\n",
    "        \n",
    "    for user in game_logs[\"user\"].unique():\n",
    "        user_game_df = game_logs[game_logs[\"user\"] == user]\n",
    "        path_lengths = []\n",
    "        \n",
    "        # for each state of the user's solution, measure its distance towards the pivoting optimal path\n",
    "        for u_state in user_game_df[\"answer\"]:\n",
    "            min_dist = 1000\n",
    "            # choose the minimal one among all\n",
    "            for p_state in min_path:\n",
    "                try:\n",
    "                    new_dist = nx.shortest_path_length(G, source=u_state, target=p_state)\n",
    "                    if min_dist > new_dist:\n",
    "                        min_dist = new_dist\n",
    "                except:\n",
    "                    continue\n",
    "            if min_dist == 1000:\n",
    "                min_dist = None\n",
    "            path_lengths.append(min_dist)\n",
    "                    \n",
    "        # together aggregate users' means of the distances and their solving times\n",
    "        user_mean = np.mean([p for p in path_lengths if p is not None])\n",
    "        means.append(user_mean)\n",
    "        \n",
    "        solving_time = user_game_df[\"responseTime\"].sum()\n",
    "        times.append(solving_time)\n",
    "        \n",
    "# drop times for missing paths from user path to optimal path\n",
    "times = [times[i] for i in range(len(list(means))) if not pd.isnull(means[i])]\n",
    "means = [means[i] for i in range(len(list(means))) if not pd.isnull(means[i])]"
   ]
  },
  {
   "cell_type": "code",
   "execution_count": 201,
   "metadata": {},
   "outputs": [
    {
     "data": {
      "text/plain": [
       "count    8852.000000\n",
       "mean        1.794835\n",
       "std         1.750673\n",
       "min         0.000000\n",
       "25%         0.800000\n",
       "50%         1.250000\n",
       "75%         2.227597\n",
       "max        28.392857\n",
       "dtype: float64"
      ]
     },
     "execution_count": 201,
     "metadata": {},
     "output_type": "execute_result"
    }
   ],
   "source": [
    "pd.Series(means).describe()"
   ]
  },
  {
   "cell_type": "code",
   "execution_count": 202,
   "metadata": {},
   "outputs": [
    {
     "data": {
      "text/plain": [
       "count    8.852000e+03\n",
       "mean     1.114285e+06\n",
       "std      5.665794e+06\n",
       "min      3.000000e+02\n",
       "25%      7.988750e+04\n",
       "50%      2.490750e+05\n",
       "75%      7.714000e+05\n",
       "max      4.216956e+08\n",
       "dtype: float64"
      ]
     },
     "execution_count": 202,
     "metadata": {},
     "output_type": "execute_result"
    }
   ],
   "source": [
    "pd.Series(times).describe()"
   ]
  },
  {
   "cell_type": "code",
   "execution_count": 200,
   "metadata": {},
   "outputs": [
    {
     "data": {
      "text/plain": [
       "array([[1.        , 0.23703293],\n",
       "       [0.23703293, 1.        ]])"
      ]
     },
     "execution_count": 200,
     "metadata": {},
     "output_type": "execute_result"
    }
   ],
   "source": [
    "np.corrcoef(means, times)"
   ]
  },
  {
   "cell_type": "markdown",
   "metadata": {},
   "source": [
    "### Záver: korelácie\n",
    "\n",
    "Korelácia dĺžky cesty s časom riešenia potvrdila domnienku, že dĺžka cesty koreluje s časom riešenia naozaj významne, hoci je stále ďaleko od úplnej korelácie. Môžeme ale tvrdiť, že dĺžka cesty nesie podstatnú informáciu o skúsenosti používateľa.\n",
    "\n",
    "Druhá metrika ma vzhľadom na svoju komplexnosť trochu sklamala, korelácia je oveľa nižšia, hoci nie celkom bezvýznamná (23.7%). Stále je však zaujímavé pozorovanie v sumarizácii, že viac ako 50% užívateľov sa od optimálneho riešenia odklonilo v priemere len o 1.25 hrany. \n",
    "\n",
    "V analýze sme však uvažovali grafy s hranami s akoukoľvek podporou (aj 1), ktoré budú síce rozsiahle, ale dosť husté, resp. silne prepojené.\n",
    "\n",
    "Mohlo by mať cenu sa ešte pohrať s parametrami, no stále relatívne nízka korelácia naznačuje, že táto cesta žiadne zázraky asi nenúka."
   ]
  },
  {
   "cell_type": "markdown",
   "metadata": {},
   "source": [
    "## Návrh klasifikácie podľa grafových dát\n",
    "\n",
    "Preskúmal som možnosť binárnej klasifikácie (úspech <> neúspech) užívateľa podľa grafovej reprezentácie priechodov danej hry. Navrhovaný prístup:\n",
    "\n",
    "* Každý uzol grafu je ohodnotený Success-rate-om udávajúcim podiel úspešných riešení, ktoré prechádzajú daným uzlom, relatívne ku všetkým priechodom\n",
    "\n",
    "* Pravdepodobnosť úspechu užívateľa je potom v každom uzle rovná Success-rate-u uzla, resp. váženým priemerom Success-rate-ov na ceste užívateľa, s určitým (silným) decay factorom."
   ]
  },
  {
   "cell_type": "code",
   "execution_count": 90,
   "metadata": {
    "scrolled": true
   },
   "outputs": [
    {
     "data": {
      "text/plain": [
       "count    123.000000\n",
       "mean       4.390244\n",
       "std       14.769616\n",
       "min        1.000000\n",
       "25%        1.000000\n",
       "50%        1.000000\n",
       "75%        1.500000\n",
       "max      141.000000\n",
       "dtype: float64"
      ]
     },
     "execution_count": 90,
     "metadata": {},
     "output_type": "execute_result"
    }
   ],
   "source": [
    "pd.Series(edge_dict.values()).describe()"
   ]
  },
  {
   "cell_type": "markdown",
   "metadata": {},
   "source": [
    "### Záver: klasifikácia podľa grafu\n",
    "\n",
    "Klasifikáciu podľa hrán však bohužiaľ musíme zavrhnúť pre nedostatočnú hustotu priechodov v grafe. Hoci striktnejšia kanonizácia uvedená vyššie zdvihla priemerný počet priechodov z 2.07 na 4.39, 75% hrán má stále menej, ako jeden priechod. Tento podiel sa nezvyšuje ani pri frekventovanejších hrách, tj. graf  rastie skôr \"do šírky\", ako \"do hĺbky\".\n",
    "\n",
    "Tento problém by mohla vyriešiť ešte inteligentnejšia kanonizácia, ale asi len za cenu ďalšej straty informácie."
   ]
  }
 ],
 "metadata": {
  "kernelspec": {
   "display_name": "Python 2",
   "language": "python",
   "name": "python2"
  },
  "language_info": {
   "codemirror_mode": {
    "name": "ipython",
    "version": 2
   },
   "file_extension": ".py",
   "mimetype": "text/x-python",
   "name": "python",
   "nbconvert_exporter": "python",
   "pygments_lexer": "ipython2",
   "version": "2.7.15"
  }
 },
 "nbformat": 4,
 "nbformat_minor": 2
}
