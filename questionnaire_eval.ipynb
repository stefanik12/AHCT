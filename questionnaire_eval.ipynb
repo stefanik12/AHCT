{
 "cells": [
  {
   "cell_type": "code",
   "execution_count": 1,
   "metadata": {
    "collapsed": true
   },
   "outputs": [],
   "source": [
    "questionnaire_attributes = [\"INDEPEND\", \"PERSCARE\", \"SHOPPING\", \"TRAVEL\", \"GAMES\", \"TAXES\", \"ORIENT\", \"NACCMOTF\", \"MOMODE\", \"DEMENTED\", \"MEMORY\", \"COGFLUC\", \"EVENTS\", \"PAYATTN\"]\n",
    "target_var = \"NPADNC\""
   ]
  },
  {
   "cell_type": "code",
   "execution_count": 2,
   "metadata": {
    "collapsed": true
   },
   "outputs": [],
   "source": [
    "import numpy as np\n",
    "import pandas as pd\n",
    "import scipy\n",
    "import matplotlib.pyplot as plt\n",
    "import random\n",
    "%matplotlib inline"
   ]
  },
  {
   "cell_type": "code",
   "execution_count": 3,
   "metadata": {
    "collapsed": false
   },
   "outputs": [
    {
     "name": "stderr",
     "output_type": "stream",
     "text": [
      "/usr/lib/python2.7/site-packages/IPython/core/interactiveshell.py:2717: DtypeWarning: Columns (5,23,25,27,31,139,141,163,172,213,283,299,319,354) have mixed types. Specify dtype option on import or set low_memory=False.\n",
      "  interactivity=interactivity, compiler=compiler, result=result)\n"
     ]
    }
   ],
   "source": [
    "df_all = pd.read_csv(\"data/data.csv\")"
   ]
  },
  {
   "cell_type": "code",
   "execution_count": 4,
   "metadata": {
    "collapsed": true
   },
   "outputs": [],
   "source": [
    "df_q = df_all[questionnaire_attributes + [target_var]]"
   ]
  },
  {
   "cell_type": "code",
   "execution_count": 5,
   "metadata": {
    "collapsed": false
   },
   "outputs": [],
   "source": [
    "# remove attributes with too many NaNs - more than 50%\n",
    "attributes_nans = df_q.apply(lambda col: sum(np.isnan(col)))\n",
    "attributes_filled = attributes_nans[attributes_nans < len(attributes_nans)/2].index.values\n",
    "df_q = df_q[attributes_filled]\n",
    "\n",
    "# replace values of (Not assessed, Missing/unknown, not collected) with interpolated values\n",
    "attributes_uniques = df_q.applymap(str).describe().transpose()[\"unique\"]\n",
    "weird_attributes = ['SMOKYRS', 'PACKSPER', 'NACCBMI', 'NACCGDS', 'BEREMAGO', 'PARKAGE', \"BEVHAGO\"]\n",
    "replaced_attributes = attributes_uniques[attributes_uniques < 8].index.values.tolist()\n",
    "df_q[replaced_attributes] = df_q[replaced_attributes].replace([-4, 8, 9], np.nan)"
   ]
  },
  {
   "cell_type": "code",
   "execution_count": 6,
   "metadata": {
    "collapsed": false
   },
   "outputs": [],
   "source": [
    "# drop NaNs in target variable\n",
    "df_q = df_q[pd.notnull(df_q[\"NPADNC\"])]\n",
    "\n",
    "# apply the interpolation on the attributes with surrounding data\n",
    "interpolated_selected = df_q.apply(lambda col: col.interpolate())\n",
    "\n",
    "# set non-interpolated values to zero\n",
    "# required for classification and t/chi importance test to have all values filled\n",
    "interpolated_selected.index = np.arange(len(interpolated_selected.index))\n",
    "non_interpolated_coords = np.argwhere(~np.isfinite(interpolated_selected.values))\n",
    "interpolated_selected.ix[np.transpose(non_interpolated_coords)[0], np.transpose(non_interpolated_coords)[1]] = 0\n",
    "interpolated_selected.index = df_q.index\n",
    "\n",
    "df_q[questionnaire_attributes] = interpolated_selected[questionnaire_attributes]"
   ]
  },
  {
   "cell_type": "code",
   "execution_count": 28,
   "metadata": {
    "collapsed": false
   },
   "outputs": [
    {
     "data": {
      "text/html": [
       "<div>\n",
       "<table border=\"1\" class=\"dataframe\">\n",
       "  <thead>\n",
       "    <tr style=\"text-align: right;\">\n",
       "      <th></th>\n",
       "      <th>INDEPEND</th>\n",
       "      <th>PERSCARE</th>\n",
       "      <th>SHOPPING</th>\n",
       "      <th>TRAVEL</th>\n",
       "      <th>GAMES</th>\n",
       "      <th>TAXES</th>\n",
       "      <th>ORIENT</th>\n",
       "      <th>NACCMOTF</th>\n",
       "      <th>MOMODE</th>\n",
       "      <th>DEMENTED</th>\n",
       "      <th>MEMORY</th>\n",
       "      <th>COGFLUC</th>\n",
       "      <th>EVENTS</th>\n",
       "      <th>PAYATTN</th>\n",
       "      <th>NPADNC</th>\n",
       "    </tr>\n",
       "  </thead>\n",
       "  <tbody>\n",
       "    <tr>\n",
       "      <th>0</th>\n",
       "      <td>1.0</td>\n",
       "      <td>0.0</td>\n",
       "      <td>0.0</td>\n",
       "      <td>2.0</td>\n",
       "      <td>0.0</td>\n",
       "      <td>2.0</td>\n",
       "      <td>1.0</td>\n",
       "      <td>0</td>\n",
       "      <td>0</td>\n",
       "      <td>1</td>\n",
       "      <td>1.0</td>\n",
       "      <td>0.0</td>\n",
       "      <td>1.0</td>\n",
       "      <td>2.0</td>\n",
       "      <td>2.0</td>\n",
       "    </tr>\n",
       "    <tr>\n",
       "      <th>1</th>\n",
       "      <td>2.0</td>\n",
       "      <td>0.0</td>\n",
       "      <td>3.0</td>\n",
       "      <td>3.0</td>\n",
       "      <td>1.0</td>\n",
       "      <td>3.0</td>\n",
       "      <td>1.0</td>\n",
       "      <td>0</td>\n",
       "      <td>0</td>\n",
       "      <td>1</td>\n",
       "      <td>2.0</td>\n",
       "      <td>0.0</td>\n",
       "      <td>2.0</td>\n",
       "      <td>1.0</td>\n",
       "      <td>2.0</td>\n",
       "    </tr>\n",
       "    <tr>\n",
       "      <th>2</th>\n",
       "      <td>2.0</td>\n",
       "      <td>0.0</td>\n",
       "      <td>3.0</td>\n",
       "      <td>3.0</td>\n",
       "      <td>1.0</td>\n",
       "      <td>3.0</td>\n",
       "      <td>1.0</td>\n",
       "      <td>0</td>\n",
       "      <td>0</td>\n",
       "      <td>1</td>\n",
       "      <td>1.0</td>\n",
       "      <td>0.0</td>\n",
       "      <td>2.0</td>\n",
       "      <td>2.0</td>\n",
       "      <td>2.0</td>\n",
       "    </tr>\n",
       "    <tr>\n",
       "      <th>3</th>\n",
       "      <td>2.0</td>\n",
       "      <td>0.0</td>\n",
       "      <td>2.0</td>\n",
       "      <td>2.0</td>\n",
       "      <td>0.0</td>\n",
       "      <td>2.0</td>\n",
       "      <td>1.0</td>\n",
       "      <td>3</td>\n",
       "      <td>1</td>\n",
       "      <td>1</td>\n",
       "      <td>1.0</td>\n",
       "      <td>0.0</td>\n",
       "      <td>2.0</td>\n",
       "      <td>2.0</td>\n",
       "      <td>2.0</td>\n",
       "    </tr>\n",
       "    <tr>\n",
       "      <th>4</th>\n",
       "      <td>3.0</td>\n",
       "      <td>0.0</td>\n",
       "      <td>3.0</td>\n",
       "      <td>3.0</td>\n",
       "      <td>1.0</td>\n",
       "      <td>3.0</td>\n",
       "      <td>2.0</td>\n",
       "      <td>3</td>\n",
       "      <td>1</td>\n",
       "      <td>1</td>\n",
       "      <td>2.0</td>\n",
       "      <td>0.0</td>\n",
       "      <td>1.0</td>\n",
       "      <td>2.0</td>\n",
       "      <td>2.0</td>\n",
       "    </tr>\n",
       "  </tbody>\n",
       "</table>\n",
       "</div>"
      ],
      "text/plain": [
       "   INDEPEND  PERSCARE  SHOPPING  TRAVEL  GAMES  TAXES  ORIENT  NACCMOTF  \\\n",
       "0       1.0       0.0       0.0     2.0    0.0    2.0     1.0         0   \n",
       "1       2.0       0.0       3.0     3.0    1.0    3.0     1.0         0   \n",
       "2       2.0       0.0       3.0     3.0    1.0    3.0     1.0         0   \n",
       "3       2.0       0.0       2.0     2.0    0.0    2.0     1.0         3   \n",
       "4       3.0       0.0       3.0     3.0    1.0    3.0     2.0         3   \n",
       "\n",
       "   MOMODE  DEMENTED  MEMORY  COGFLUC  EVENTS  PAYATTN  NPADNC  \n",
       "0       0         1     1.0      0.0     1.0      2.0     2.0  \n",
       "1       0         1     2.0      0.0     2.0      1.0     2.0  \n",
       "2       0         1     1.0      0.0     2.0      2.0     2.0  \n",
       "3       1         1     1.0      0.0     2.0      2.0     2.0  \n",
       "4       1         1     2.0      0.0     1.0      2.0     2.0  "
      ]
     },
     "execution_count": 28,
     "metadata": {},
     "output_type": "execute_result"
    }
   ],
   "source": [
    "df_q.head()"
   ]
  },
  {
   "cell_type": "markdown",
   "metadata": {},
   "source": [
    "## Machine learning estimators\n",
    "\n",
    "We have decided to experiment and evaluate a few selected methods of the various sort:\n",
    "\n",
    "* LDA\n",
    "\n",
    "* Logistic Regression\n",
    "\n",
    "* Bayesian Classifier\n",
    "\n",
    "* Decision trees (Random Decision Forrest)\n"
   ]
  },
  {
   "cell_type": "code",
   "execution_count": 8,
   "metadata": {
    "collapsed": false
   },
   "outputs": [],
   "source": [
    "from sklearn.model_selection import StratifiedKFold\n",
    "\n",
    "X = df_q[list(set(df_q.columns) - set([target_var]))]\n",
    "y = df_q[target_var]\n",
    "\n",
    "results = dict()"
   ]
  },
  {
   "cell_type": "code",
   "execution_count": 9,
   "metadata": {
    "collapsed": false
   },
   "outputs": [
    {
     "data": {
      "text/plain": [
       "['NACCMOTF',\n",
       " 'SHOPPING',\n",
       " 'COGFLUC',\n",
       " 'TRAVEL',\n",
       " 'INDEPEND',\n",
       " 'TAXES',\n",
       " 'ORIENT',\n",
       " 'DEMENTED',\n",
       " 'GAMES',\n",
       " 'MEMORY',\n",
       " 'PAYATTN',\n",
       " 'PERSCARE',\n",
       " 'EVENTS',\n",
       " 'MOMODE']"
      ]
     },
     "execution_count": 9,
     "metadata": {},
     "output_type": "execute_result"
    }
   ],
   "source": [
    "list(set(df_q.columns) - set([target_var]))"
   ]
  },
  {
   "cell_type": "code",
   "execution_count": 10,
   "metadata": {
    "collapsed": true
   },
   "outputs": [],
   "source": [
    "# LDA\n",
    "from sklearn.discriminant_analysis import LinearDiscriminantAnalysis as Classifier\n",
    "method = \"LDA\""
   ]
  },
  {
   "cell_type": "code",
   "execution_count": 18,
   "metadata": {
    "collapsed": true
   },
   "outputs": [],
   "source": [
    "# Logistic Regression\n",
    "from sklearn.linear_model import LogisticRegression as Classifier\n",
    "method = \"Logistic Regression\""
   ]
  },
  {
   "cell_type": "code",
   "execution_count": 20,
   "metadata": {
    "collapsed": true
   },
   "outputs": [],
   "source": [
    "# Bayesian Classifier\n",
    "from sklearn.naive_bayes import MultinomialNB as Classifier\n",
    "method = \"Naive Bayes\""
   ]
  },
  {
   "cell_type": "code",
   "execution_count": 22,
   "metadata": {
    "collapsed": true
   },
   "outputs": [],
   "source": [
    "# Tree Ensemble Classifier\n",
    "from sklearn.ensemble import RandomForestClassifier as Classifier\n",
    "method = \"Random Forrest\""
   ]
  },
  {
   "cell_type": "code",
   "execution_count": 24,
   "metadata": {
    "collapsed": true
   },
   "outputs": [],
   "source": [
    "# Baseline\n",
    "results[\"Baseline (Random)\"] = [0.25 for _ in range(10)]"
   ]
  },
  {
   "cell_type": "code",
   "execution_count": 25,
   "metadata": {
    "collapsed": false
   },
   "outputs": [
    {
     "name": "stdout",
     "output_type": "stream",
     "text": [
      "0.551155115512\n",
      "0.557024793388\n",
      "0.581125827815\n",
      "0.594370860927\n",
      "0.572847682119\n",
      "0.529021558872\n",
      "0.583747927032\n",
      "0.548922056385\n",
      "0.482587064677\n",
      "0.546511627907\n"
     ]
    }
   ],
   "source": [
    "results[method] = []\n",
    "for train_coords, test_coords in StratifiedKFold(n_splits=10, shuffle=False).split(X ,y):\n",
    "    classifier = Classifier()\n",
    "    classifier.fit(X.iloc[train_coords], y.iloc[train_coords])\n",
    "    accuracy = classifier.score(X.iloc[test_coords], y.iloc[test_coords])\n",
    "    print accuracy\n",
    "    results[method].append(accuracy)"
   ]
  },
  {
   "cell_type": "code",
   "execution_count": 26,
   "metadata": {
    "collapsed": true
   },
   "outputs": [],
   "source": [
    "results_df = pd.DataFrame(results)"
   ]
  },
  {
   "cell_type": "code",
   "execution_count": 27,
   "metadata": {
    "collapsed": false
   },
   "outputs": [
    {
     "data": {
      "text/plain": [
       "<matplotlib.axes.AxesSubplot at 0x7fc5cfe2a310>"
      ]
     },
     "execution_count": 27,
     "metadata": {},
     "output_type": "execute_result"
    },
    {
     "data": {
      "image/png": "[encoded data removed]",
      "text/plain": [
       "<matplotlib.figure.Figure at 0x7fc5cfe2a110>"
      ]
     },
     "metadata": {},
     "output_type": "display_data"
    }
   ],
   "source": [
    "axes = plt.gca()\n",
    "axes.set_ylim([0,1])\n",
    "results_df.boxplot(figsize=(12, 3), rot=15)"
   ]
  },
  {
   "cell_type": "code",
   "execution_count": 33,
   "metadata": {
    "collapsed": false
   },
   "outputs": [
    {
     "data": {
      "text/plain": [
       "NPADNC\n",
       "-4    6518\n",
       " 0     545\n",
       " 1     829\n",
       " 2    1291\n",
       " 3    3372\n",
       " 8      58\n",
       " 9      16\n",
       "Name: NACCMOTF, dtype: int64"
      ]
     },
     "execution_count": 33,
     "metadata": {},
     "output_type": "execute_result"
    }
   ],
   "source": [
    "df_all.groupby(by=\"NPADNC\").count()[\"NACCMOTF\"]"
   ]
  },
  {
   "cell_type": "code",
   "execution_count": 32,
   "metadata": {
    "collapsed": false
   },
   "outputs": [
    {
     "data": {
      "text/plain": [
       "12629"
      ]
     },
     "execution_count": 32,
     "metadata": {},
     "output_type": "execute_result"
    }
   ],
   "source": [
    "df_all[\"NPADNC\"].count()"
   ]
  }
 ],
 "metadata": {
  "kernelspec": {
   "display_name": "Python 2",
   "language": "python",
   "name": "python2"
  },
  "language_info": {
   "codemirror_mode": {
    "name": "ipython",
    "version": 2
   },
   "file_extension": ".py",
   "mimetype": "text/x-python",
   "name": "python",
   "nbconvert_exporter": "python",
   "pygments_lexer": "ipython2",
   "version": "2.7.8"
  }
 },
 "nbformat": 4,
 "nbformat_minor": 2
}
